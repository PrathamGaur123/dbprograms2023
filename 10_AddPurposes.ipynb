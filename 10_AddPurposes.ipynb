{
  "nbformat": 4,
  "nbformat_minor": 0,
  "metadata": {
    "colab": {
      "provenance": []
    },
    "kernelspec": {
      "name": "python3",
      "display_name": "Python 3"
    },
    "language_info": {
      "name": "python"
    }
  },
  "cells": [
    {
      "cell_type": "markdown",
      "source": [
        "Program to accept modelname and purpose, update all mobiles of the model with the purpose ( gaming/office/social, etc.)"
      ],
      "metadata": {
        "id": "9qKqL6Wzatxe"
      }
    },
    {
      "cell_type": "code",
      "execution_count": null,
      "metadata": {
        "colab": {
          "base_uri": "https://localhost:8080/"
        },
        "id": "qyn8gTAFaq1p",
        "outputId": "7f87946d-ed79-4433-bdd5-e8f6c6155c1f"
      },
      "outputs": [
        {
          "output_type": "stream",
          "name": "stdout",
          "text": [
            "Looking in indexes: https://pypi.org/simple, https://us-python.pkg.dev/colab-wheels/public/simple/\n",
            "Collecting pymysql\n",
            "  Downloading PyMySQL-1.0.3-py3-none-any.whl (43 kB)\n",
            "\u001b[2K     \u001b[90m━━━━━━━━━━━━━━━━━━━━━━━━━━━━━━━━━━━━━━━━\u001b[0m \u001b[32m43.7/43.7 kB\u001b[0m \u001b[31m2.4 MB/s\u001b[0m eta \u001b[36m0:00:00\u001b[0m\n",
            "\u001b[?25hInstalling collected packages: pymysql\n",
            "Successfully installed pymysql-1.0.3\n"
          ]
        }
      ],
      "source": [
        "pip install pymysql"
      ]
    },
    {
      "cell_type": "code",
      "source": [
        "import pymysql"
      ],
      "metadata": {
        "id": "fNgE0gAza2L8"
      },
      "execution_count": null,
      "outputs": []
    },
    {
      "cell_type": "code",
      "source": [
        "con = pymysql.connect(host='bjdnzwywx4yuwlv2yvqn-mysql.services.clever-cloud.com', user='uryhne0taq31lhab', password='9ktaVYjniKvGj207ouvQ', database='bjdnzwywx4yuwlv2yvqn')\n",
        "curs = con.cursor()"
      ],
      "metadata": {
        "id": "VpCAUdP1a7IL"
      },
      "execution_count": null,
      "outputs": []
    },
    {
      "cell_type": "code",
      "source": [
        "modnm = input(\"Enter Model Name: \")\n",
        "curs.execute(\"select * from mobiles where modelname='%s'\" %modnm)\n",
        "data = curs.fetchone()\n",
        "if data:\n",
        "    print(data)\n",
        "    purpose = input(\"Enter Purpose: \")\n",
        "    curs.execute(\"update mobiles set purpose='%s' where modelname='%s'\" %(purpose,modnm))\n",
        "    con.commit()\n",
        "    print(\"Purpose Added Successfully\")\n",
        "else:\n",
        "    print(\"Mobile not found\")"
      ],
      "metadata": {
        "colab": {
          "base_uri": "https://localhost:8080/"
        },
        "id": "NwWAi6IMa9-N",
        "outputId": "efe4988a-002b-4a96-c831-a1ffb9bd73ef"
      },
      "execution_count": null,
      "outputs": [
        {
          "output_type": "stream",
          "name": "stdout",
          "text": [
            "Enter Model Name: realme C3\n",
            "(1002, 'realme C3', 'Realme', '4G', 3, 32, 'Frozen Blue', 7.0, 5000, 'Helio G70', 7999, 4.0, 'Social')\n",
            "Enter Purpose: Social\n",
            "Purpose Added Successfully\n"
          ]
        }
      ]
    },
    {
      "cell_type": "code",
      "source": [
        "con.close()"
      ],
      "metadata": {
        "id": "qY3Pqz0DbKuu"
      },
      "execution_count": null,
      "outputs": []
    }
  ]
}