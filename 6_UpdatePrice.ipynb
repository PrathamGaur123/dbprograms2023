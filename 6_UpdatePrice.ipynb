{
  "nbformat": 4,
  "nbformat_minor": 0,
  "metadata": {
    "colab": {
      "provenance": []
    },
    "kernelspec": {
      "name": "python3",
      "display_name": "Python 3"
    },
    "language_info": {
      "name": "python"
    }
  },
  "cells": [
    {
      "cell_type": "markdown",
      "source": [
        "Write a program to accept prodid & new price and update price in the mobile data in the table if found else display \"mobile does not exist\""
      ],
      "metadata": {
        "id": "WANopqTYXDgu"
      }
    },
    {
      "cell_type": "code",
      "execution_count": null,
      "metadata": {
        "colab": {
          "base_uri": "https://localhost:8080/"
        },
        "id": "CnQwHRgeWwcf",
        "outputId": "0b263e5d-cc1f-4e0c-b1a1-6a0291ca7e47"
      },
      "outputs": [
        {
          "output_type": "stream",
          "name": "stdout",
          "text": [
            "Looking in indexes: https://pypi.org/simple, https://us-python.pkg.dev/colab-wheels/public/simple/\n",
            "Collecting pymysql\n",
            "  Downloading PyMySQL-1.0.3-py3-none-any.whl (43 kB)\n",
            "\u001b[2K     \u001b[90m━━━━━━━━━━━━━━━━━━━━━━━━━━━━━━━━━━━━━━━━\u001b[0m \u001b[32m43.7/43.7 kB\u001b[0m \u001b[31m4.0 MB/s\u001b[0m eta \u001b[36m0:00:00\u001b[0m\n",
            "\u001b[?25hInstalling collected packages: pymysql\n",
            "Successfully installed pymysql-1.0.3\n"
          ]
        }
      ],
      "source": [
        "pip install pymysql"
      ]
    },
    {
      "cell_type": "code",
      "source": [
        "import pymysql"
      ],
      "metadata": {
        "id": "9EmXIEgyXgAC"
      },
      "execution_count": null,
      "outputs": []
    },
    {
      "cell_type": "code",
      "source": [
        "con = pymysql.connect(host='bjdnzwywx4yuwlv2yvqn-mysql.services.clever-cloud.com', user='uryhne0taq31lhab', password='9ktaVYjniKvGj207ouvQ', database='bjdnzwywx4yuwlv2yvqn')\n",
        "curs = con.cursor()"
      ],
      "metadata": {
        "id": "oe3NqHM4Xkoz"
      },
      "execution_count": null,
      "outputs": []
    },
    {
      "cell_type": "code",
      "source": [
        "pid = int(input(\"Enter Product ID: \"))\n",
        "curs.execute(\"select * from mobiles where prodid=%d\" %pid)\n",
        "data = curs.fetchone()\n",
        "if data:\n",
        "    print(\"Current Price: \",data[10])\n",
        "    price = int(input(\"Enter New Price: \"))\n",
        "    curs.execute(\"update mobiles set price=%d where prodid=%d\" %(price,pid))\n",
        "    con.commit()\n",
        "    print(\"Mobile Price Updated Successfully\")\n",
        "    curs.execute(\"select * from mobiles where prodid=%d\" %pid)\n",
        "    data = curs.fetchone()\n",
        "    print(\"New Price: \",data[10])\n",
        "else:\n",
        "    print(\"Mobile does not exist\")\n"
      ],
      "metadata": {
        "colab": {
          "base_uri": "https://localhost:8080/"
        },
        "id": "WC9T5tW0Xo6e",
        "outputId": "4eae3b1d-4675-4882-dfc5-8c8fcce40aec"
      },
      "execution_count": null,
      "outputs": [
        {
          "output_type": "stream",
          "name": "stdout",
          "text": [
            "Enter Product ID: 1007\n",
            "Current Price:  25940\n",
            "Enter New Price: 25940\n",
            "Mobile Price Updated Successfully\n",
            "New Price:  25940\n"
          ]
        }
      ]
    },
    {
      "cell_type": "code",
      "source": [
        "con.close()"
      ],
      "metadata": {
        "id": "0d0v3LvIX1TE"
      },
      "execution_count": null,
      "outputs": []
    }
  ]
}