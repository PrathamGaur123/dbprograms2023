{
  "nbformat": 4,
  "nbformat_minor": 0,
  "metadata": {
    "colab": {
      "provenance": []
    },
    "kernelspec": {
      "name": "python3",
      "display_name": "Python 3"
    },
    "language_info": {
      "name": "python"
    }
  },
  "cells": [
    {
      "cell_type": "markdown",
      "source": [
        "Program to take new mobile data as input and add mobile to the DB table"
      ],
      "metadata": {
        "id": "NOjuecnhQMF3"
      }
    },
    {
      "cell_type": "code",
      "execution_count": null,
      "metadata": {
        "colab": {
          "base_uri": "https://localhost:8080/"
        },
        "id": "hv5NlXDZQF4o",
        "outputId": "a0d6d63b-41e5-4bd0-c953-667fcbc07d78"
      },
      "outputs": [
        {
          "output_type": "stream",
          "name": "stdout",
          "text": [
            "Looking in indexes: https://pypi.org/simple, https://us-python.pkg.dev/colab-wheels/public/simple/\n",
            "Collecting pymysql\n",
            "  Downloading PyMySQL-1.0.3-py3-none-any.whl (43 kB)\n",
            "\u001b[2K     \u001b[90m━━━━━━━━━━━━━━━━━━━━━━━━━━━━━━━━━━━━━━━━\u001b[0m \u001b[32m43.7/43.7 kB\u001b[0m \u001b[31m3.8 MB/s\u001b[0m eta \u001b[36m0:00:00\u001b[0m\n",
            "\u001b[?25hInstalling collected packages: pymysql\n",
            "Successfully installed pymysql-1.0.3\n"
          ]
        }
      ],
      "source": [
        "pip install pymysql"
      ]
    },
    {
      "cell_type": "code",
      "source": [
        "import pymysql"
      ],
      "metadata": {
        "id": "bf9AVMAYQU4S"
      },
      "execution_count": null,
      "outputs": []
    },
    {
      "cell_type": "code",
      "source": [
        "con = pymysql.connect(host='bjdnzwywx4yuwlv2yvqn-mysql.services.clever-cloud.com', user='uryhne0taq31lhab', password='9ktaVYjniKvGj207ouvQ', database='bjdnzwywx4yuwlv2yvqn')\n",
        "curs = con.cursor()"
      ],
      "metadata": {
        "id": "kQGuktJyQaH1"
      },
      "execution_count": null,
      "outputs": []
    },
    {
      "cell_type": "code",
      "source": [
        "pid = int(input(\"Enter Product ID: \"))\n",
        "mobname = input(\"Enter Mobile Name: \")\n",
        "company = input(\"Enter Company: \")\n",
        "connectivity = input(\"Enter Connectivity 4G/5G: \")\n",
        "ram = int(input(\"Enter RAM Size in GB: \"))\n",
        "rom = int(input(\"Enter ROM Size in GB: \"))\n",
        "color = input(\"Enter Color: \")\n",
        "screen = float(input(\"Enter Screen Size in inches: \"))\n",
        "battery = int(input(\"Enter Battery in mAh: \"))\n",
        "processor = input(\"Enter Processor: \")\n",
        "price = int(input(\"Enter Price: \"))\n",
        "ratings = float(input(\"Enter Ratings out of 5: \"))\n",
        "purpose = input(\"Enter Purpose: \")\n",
        "try:\n",
        "    curs.execute(\"insert into mobiles values(%d,'%s','%s','%s',%d,%d,'%s',%.2f,%d,'%s',%d,%.2f,'%s')\" %(pid,mobname,company,connectivity,ram,rom,color,screen,battery,processor,price,ratings,purpose))\n",
        "    con.commit()\n",
        "    print(\"New Mobile Data Inserted Successfully\")\n",
        "except:\n",
        "    print(\"Can't Insert Mobile Data\")\n"
      ],
      "metadata": {
        "id": "V2YL93YkQdsQ"
      },
      "execution_count": null,
      "outputs": []
    },
    {
      "cell_type": "code",
      "source": [
        "con.close()"
      ],
      "metadata": {
        "id": "FoBRIGEhRv6Q"
      },
      "execution_count": null,
      "outputs": []
    }
  ]
}