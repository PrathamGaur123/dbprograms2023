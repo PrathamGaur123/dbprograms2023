{
  "nbformat": 4,
  "nbformat_minor": 0,
  "metadata": {
    "colab": {
      "provenance": []
    },
    "kernelspec": {
      "name": "python3",
      "display_name": "Python 3"
    },
    "language_info": {
      "name": "python"
    }
  },
  "cells": [
    {
      "cell_type": "markdown",
      "source": [
        "program to accept ram and rom, display list of mobiles of the ram-rom storage space combination"
      ],
      "metadata": {
        "id": "k93m0Sn1Y7Xc"
      }
    },
    {
      "cell_type": "code",
      "execution_count": null,
      "metadata": {
        "colab": {
          "base_uri": "https://localhost:8080/"
        },
        "id": "s1SZE_2eY2XE",
        "outputId": "37dcd510-2526-4b3f-b8a3-698a4444f9c3"
      },
      "outputs": [
        {
          "output_type": "stream",
          "name": "stdout",
          "text": [
            "Looking in indexes: https://pypi.org/simple, https://us-python.pkg.dev/colab-wheels/public/simple/\n",
            "Collecting pymysql\n",
            "  Downloading PyMySQL-1.0.3-py3-none-any.whl (43 kB)\n",
            "\u001b[2K     \u001b[90m━━━━━━━━━━━━━━━━━━━━━━━━━━━━━━━━━━━━━━━━\u001b[0m \u001b[32m43.7/43.7 kB\u001b[0m \u001b[31m3.5 MB/s\u001b[0m eta \u001b[36m0:00:00\u001b[0m\n",
            "\u001b[?25hInstalling collected packages: pymysql\n",
            "Successfully installed pymysql-1.0.3\n"
          ]
        }
      ],
      "source": [
        "pip install pymysql"
      ]
    },
    {
      "cell_type": "code",
      "source": [
        "import pymysql"
      ],
      "metadata": {
        "id": "G6oWRHCsZEi0"
      },
      "execution_count": null,
      "outputs": []
    },
    {
      "cell_type": "code",
      "source": [
        "con = pymysql.connect(host='bjdnzwywx4yuwlv2yvqn-mysql.services.clever-cloud.com', user='uryhne0taq31lhab', password='9ktaVYjniKvGj207ouvQ', database='bjdnzwywx4yuwlv2yvqn')\n",
        "curs = con.cursor()"
      ],
      "metadata": {
        "id": "bsAFFcsjZMXu"
      },
      "execution_count": null,
      "outputs": []
    },
    {
      "cell_type": "code",
      "source": [
        "ram = int(input(\"Enter RAM Size in GB: \"))\n",
        "rom = int(input(\"Enter ROM Size in GB: \"))\n",
        "try:\n",
        "    curs.execute(\"select * from mobiles where ram=%d and rom=%d\" %(ram,rom))\n",
        "    data = curs.fetchone()\n",
        "    print(data)\n",
        "except:\n",
        "    print(\"No Mobiles with such specification\")3"
      ],
      "metadata": {
        "colab": {
          "base_uri": "https://localhost:8080/"
        },
        "id": "xghckESGZbLv",
        "outputId": "4ae91263-11d7-4f14-fedc-9d954c9264fa"
      },
      "execution_count": null,
      "outputs": [
        {
          "output_type": "stream",
          "name": "stdout",
          "text": [
            "Enter RAM Size in GB: 3\n",
            "Enter ROM Size in GB: 32\n",
            "(1002, 'realme C3', 'Realme', '4G', 3, 32, 'Frozen Blue', 7.0, 5000, 'Helio G70', 7999, 4.0, 'Social')\n"
          ]
        }
      ]
    },
    {
      "cell_type": "code",
      "source": [
        "con.close()"
      ],
      "metadata": {
        "id": "Xf241icAZnLC"
      },
      "execution_count": null,
      "outputs": []
    }
  ]
}