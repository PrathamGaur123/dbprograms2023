{
  "nbformat": 4,
  "nbformat_minor": 0,
  "metadata": {
    "colab": {
      "provenance": []
    },
    "kernelspec": {
      "name": "python3",
      "display_name": "Python 3"
    },
    "language_info": {
      "name": "python"
    }
  },
  "cells": [
    {
      "cell_type": "markdown",
      "source": [
        "Add new column \"purpose varchar(50)\" to the mobiles table using alter query"
      ],
      "metadata": {
        "id": "DusJYseIZw4T"
      }
    },
    {
      "cell_type": "code",
      "execution_count": null,
      "metadata": {
        "colab": {
          "base_uri": "https://localhost:8080/"
        },
        "id": "LvjmoRdOZtq9",
        "outputId": "b541d381-77be-4e3e-df08-fe669a39f94d"
      },
      "outputs": [
        {
          "output_type": "stream",
          "name": "stdout",
          "text": [
            "Looking in indexes: https://pypi.org/simple, https://us-python.pkg.dev/colab-wheels/public/simple/\n",
            "Collecting pymysql\n",
            "  Downloading PyMySQL-1.0.3-py3-none-any.whl (43 kB)\n",
            "\u001b[2K     \u001b[90m━━━━━━━━━━━━━━━━━━━━━━━━━━━━━━━━━━━━━━━━\u001b[0m \u001b[32m43.7/43.7 kB\u001b[0m \u001b[31m2.6 MB/s\u001b[0m eta \u001b[36m0:00:00\u001b[0m\n",
            "\u001b[?25hInstalling collected packages: pymysql\n",
            "Successfully installed pymysql-1.0.3\n"
          ]
        }
      ],
      "source": [
        "pip install pymysql"
      ]
    },
    {
      "cell_type": "code",
      "source": [
        "import pymysql"
      ],
      "metadata": {
        "id": "F6PXXh1FZ52n"
      },
      "execution_count": null,
      "outputs": []
    },
    {
      "cell_type": "code",
      "source": [
        "con = pymysql.connect(host='bjdnzwywx4yuwlv2yvqn-mysql.services.clever-cloud.com', user='uryhne0taq31lhab', password='9ktaVYjniKvGj207ouvQ', database='bjdnzwywx4yuwlv2yvqn')\n",
        "curs = con.cursor()"
      ],
      "metadata": {
        "id": "TViFjSFHZ8xz"
      },
      "execution_count": null,
      "outputs": []
    },
    {
      "cell_type": "code",
      "source": [
        "column = input(\"Enter name of new Column: \")\n",
        "datatype = input(\"Enter data type with size in (): \")\n",
        "try:\n",
        "    curs.execute(\"alter table mobiles add \"+column+\" \"+datatype)\n",
        "    con.commit()\n",
        "    print(\"Column Added\")\n",
        "except:\n",
        "    print(\"Column already exist\")"
      ],
      "metadata": {
        "colab": {
          "base_uri": "https://localhost:8080/"
        },
        "id": "sNqyBKdhaBGW",
        "outputId": "924889d9-bc4d-4b15-e6f7-323b8e8a90bb"
      },
      "execution_count": null,
      "outputs": [
        {
          "output_type": "stream",
          "name": "stdout",
          "text": [
            "Enter name of new Column: purpose\n",
            "Enter data type with size in (): varchar(50)\n",
            "Column already exist\n"
          ]
        }
      ]
    },
    {
      "cell_type": "code",
      "source": [
        "con.close()"
      ],
      "metadata": {
        "id": "vk9aZBKnaZdZ"
      },
      "execution_count": null,
      "outputs": []
    }
  ]
}