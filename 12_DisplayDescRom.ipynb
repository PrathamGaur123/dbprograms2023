{
  "nbformat": 4,
  "nbformat_minor": 0,
  "metadata": {
    "colab": {
      "provenance": []
    },
    "kernelspec": {
      "name": "python3",
      "display_name": "Python 3"
    },
    "language_info": {
      "name": "python"
    }
  },
  "cells": [
    {
      "cell_type": "markdown",
      "source": [
        "Take field as an input like rom and display all mobiles in the descending order of the that field."
      ],
      "metadata": {
        "id": "9UIcJlVoccOX"
      }
    },
    {
      "cell_type": "code",
      "execution_count": null,
      "metadata": {
        "colab": {
          "base_uri": "https://localhost:8080/"
        },
        "id": "NjEfO-4-cbNf",
        "outputId": "47c39b78-70e1-42f3-ba91-dd810ad789ae"
      },
      "outputs": [
        {
          "output_type": "stream",
          "name": "stdout",
          "text": [
            "Looking in indexes: https://pypi.org/simple, https://us-python.pkg.dev/colab-wheels/public/simple/\n",
            "Collecting pymysql\n",
            "  Downloading PyMySQL-1.0.3-py3-none-any.whl (43 kB)\n",
            "\u001b[2K     \u001b[90m━━━━━━━━━━━━━━━━━━━━━━━━━━━━━━━━━━━━━━━━\u001b[0m \u001b[32m43.7/43.7 kB\u001b[0m \u001b[31m2.2 MB/s\u001b[0m eta \u001b[36m0:00:00\u001b[0m\n",
            "\u001b[?25hInstalling collected packages: pymysql\n",
            "Successfully installed pymysql-1.0.3\n"
          ]
        }
      ],
      "source": [
        "pip install pymysql"
      ]
    },
    {
      "cell_type": "code",
      "source": [
        "import pymysql\n",
        "from tabulate import tabulate"
      ],
      "metadata": {
        "id": "lGCuyR6nckMv"
      },
      "execution_count": null,
      "outputs": []
    },
    {
      "cell_type": "code",
      "source": [
        "con = pymysql.connect(host='bjdnzwywx4yuwlv2yvqn-mysql.services.clever-cloud.com', user='uryhne0taq31lhab', password='9ktaVYjniKvGj207ouvQ', database='bjdnzwywx4yuwlv2yvqn')\n",
        "curs = con.cursor()"
      ],
      "metadata": {
        "id": "bSWF5hrFctKx"
      },
      "execution_count": null,
      "outputs": []
    },
    {
      "cell_type": "code",
      "source": [
        "rom = int(input(\"Enter ROM Size: \"))\n",
        "curs.execute(\"select * from mobiles where rom<=%d order by rom desc\" %rom)\n",
        "data = curs.fetchall()\n",
        "fields = ['Product ID','Model Name', 'Company', 'Connectivity', 'RAM', 'ROM', 'Color', 'Screen', 'Battery', 'Processor', 'Price', 'Ratings', 'Purpose']\n",
        "print(tabulate(data, headers=fields))"
      ],
      "metadata": {
        "colab": {
          "base_uri": "https://localhost:8080/"
        },
        "id": "MDOZRBNTcyzd",
        "outputId": "cc08b47e-c806-4bb9-dba3-11cd904867a0"
      },
      "execution_count": null,
      "outputs": [
        {
          "output_type": "stream",
          "name": "stdout",
          "text": [
            "Enter ROM Size: 128\n",
            "  Product ID  Model Name          Company    Connectivity      RAM    ROM  Color             Screen    Battery  Processor             Price    Ratings  Purpose\n",
            "------------  ------------------  ---------  --------------  -----  -----  --------------  --------  ---------  ------------------  -------  ---------  ---------\n",
            "        1001  SAMSUNG Galaxy F13  Samsung    4G                  4    128  Waterfall Blue         7       6000  Exynos 850            10699          4  Social\n",
            "        1004  Infinix HOT 30i     Infinix    4G                  8    128  Galcier Blue           7       5000  G37                    8999          4  Gaming\n",
            "        1005  APPLE iPhone 14     Apple      5G                  8    128  Purple                 6       6000  A15 Bionic Chip       69999          5  Social\n",
            "        1007  vivo V25            Vivo       5G                  8    128  Elegant Black          6       4500  Octa Core             25940          4  Social\n",
            "        1003  OPPO A17            Oppo       4G                  4     64  Lake Blue              7       5000  Mediatek Helio G35    12499          4  Social\n",
            "        1002  realme C3           Realme     4G                  3     32  Frozen Blue            7       5000  Helio G70              7999          4  Social\n"
          ]
        }
      ]
    },
    {
      "cell_type": "code",
      "source": [
        "con.close()"
      ],
      "metadata": {
        "id": "wQHx-Dd4c4e8"
      },
      "execution_count": null,
      "outputs": []
    }
  ]
}