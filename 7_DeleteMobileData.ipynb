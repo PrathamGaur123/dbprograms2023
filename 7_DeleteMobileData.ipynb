{
  "nbformat": 4,
  "nbformat_minor": 0,
  "metadata": {
    "colab": {
      "provenance": []
    },
    "kernelspec": {
      "name": "python3",
      "display_name": "Python 3"
    },
    "language_info": {
      "name": "python"
    }
  },
  "cells": [
    {
      "cell_type": "markdown",
      "source": [
        "program to accept prodid, display the mobile data and ask \"Do you want to delete?\" if \"yes\" delete the mobile from the table"
      ],
      "metadata": {
        "id": "PPI7OzVFX_QY"
      }
    },
    {
      "cell_type": "code",
      "execution_count": null,
      "metadata": {
        "colab": {
          "base_uri": "https://localhost:8080/"
        },
        "id": "jwzRupW0X8U5",
        "outputId": "65de1117-e9ce-4ab9-fcec-a391d9528f5f"
      },
      "outputs": [
        {
          "output_type": "stream",
          "name": "stdout",
          "text": [
            "Looking in indexes: https://pypi.org/simple, https://us-python.pkg.dev/colab-wheels/public/simple/\n",
            "Collecting pymysql\n",
            "  Downloading PyMySQL-1.0.3-py3-none-any.whl (43 kB)\n",
            "\u001b[2K     \u001b[90m━━━━━━━━━━━━━━━━━━━━━━━━━━━━━━━━━━━━━━━━\u001b[0m \u001b[32m43.7/43.7 kB\u001b[0m \u001b[31m1.6 MB/s\u001b[0m eta \u001b[36m0:00:00\u001b[0m\n",
            "\u001b[?25hInstalling collected packages: pymysql\n",
            "Successfully installed pymysql-1.0.3\n"
          ]
        }
      ],
      "source": [
        "pip install pymysql"
      ]
    },
    {
      "cell_type": "code",
      "source": [
        "import pymysql"
      ],
      "metadata": {
        "id": "YdBPmyUmYL6g"
      },
      "execution_count": null,
      "outputs": []
    },
    {
      "cell_type": "code",
      "source": [
        "con = pymysql.connect(host='bjdnzwywx4yuwlv2yvqn-mysql.services.clever-cloud.com', user='uryhne0taq31lhab', password='9ktaVYjniKvGj207ouvQ', database='bjdnzwywx4yuwlv2yvqn')\n",
        "curs = con.cursor()"
      ],
      "metadata": {
        "id": "X2NoArcZYP-y"
      },
      "execution_count": null,
      "outputs": []
    },
    {
      "cell_type": "code",
      "source": [
        "pid = int(input(\"Enter Product ID to Delete the Mobile Data: \"))\n",
        "curs.execute(\"select * from mobiles where prodid=%d\" %pid)\n",
        "data = curs.fetchone()\n",
        "if data:\n",
        "    print(data)\n",
        "    choice = input(\"Are you sure want to delete this Mobile Record? (yes/no): \")\n",
        "    if choice.lower() == 'yes':\n",
        "        curs.execute(\"delete from mobiles where prodid=%d\" %pid)\n",
        "        con.commit()\n",
        "        print(\"Mobile Record Deleted Successfully\")\n",
        "    else:\n",
        "        print(\"Mobile Record Deletion Cancelled\")\n",
        "else:\n",
        "    print(\"Mobile does not exist\")\n"
      ],
      "metadata": {
        "id": "HVdM7ZpPYTPa"
      },
      "execution_count": null,
      "outputs": []
    },
    {
      "cell_type": "code",
      "source": [
        "con.close()"
      ],
      "metadata": {
        "id": "3llyDNd1YrOM"
      },
      "execution_count": null,
      "outputs": []
    }
  ]
}