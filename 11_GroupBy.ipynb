{
  "nbformat": 4,
  "nbformat_minor": 0,
  "metadata": {
    "colab": {
      "provenance": []
    },
    "kernelspec": {
      "name": "python3",
      "display_name": "Python 3"
    },
    "language_info": {
      "name": "python"
    }
  },
  "cells": [
    {
      "cell_type": "markdown",
      "source": [
        "program to display group by information - brand, total models under the company, average price and average rating."
      ],
      "metadata": {
        "id": "o_FFTO3lbgSM"
      }
    },
    {
      "cell_type": "code",
      "execution_count": null,
      "metadata": {
        "colab": {
          "base_uri": "https://localhost:8080/"
        },
        "id": "WX6XsJPRbWrB",
        "outputId": "b5b63ac9-5383-4b10-9469-b2df20a9c3fc"
      },
      "outputs": [
        {
          "output_type": "stream",
          "name": "stdout",
          "text": [
            "Looking in indexes: https://pypi.org/simple, https://us-python.pkg.dev/colab-wheels/public/simple/\n",
            "Collecting pymysql\n",
            "  Downloading PyMySQL-1.0.3-py3-none-any.whl (43 kB)\n",
            "\u001b[2K     \u001b[90m━━━━━━━━━━━━━━━━━━━━━━━━━━━━━━━━━━━━━━━━\u001b[0m \u001b[32m43.7/43.7 kB\u001b[0m \u001b[31m2.3 MB/s\u001b[0m eta \u001b[36m0:00:00\u001b[0m\n",
            "\u001b[?25hInstalling collected packages: pymysql\n",
            "Successfully installed pymysql-1.0.3\n"
          ]
        }
      ],
      "source": [
        "pip install pymysql"
      ]
    },
    {
      "cell_type": "code",
      "source": [
        "import pymysql\n",
        "from tabulate import tabulate"
      ],
      "metadata": {
        "id": "3_I8nHk4bwbY"
      },
      "execution_count": null,
      "outputs": []
    },
    {
      "cell_type": "code",
      "source": [
        "con = pymysql.connect(host='bjdnzwywx4yuwlv2yvqn-mysql.services.clever-cloud.com', user='uryhne0taq31lhab', password='9ktaVYjniKvGj207ouvQ', database='bjdnzwywx4yuwlv2yvqn')\n",
        "curs = con.cursor()"
      ],
      "metadata": {
        "id": "NZ7SVlNYb6w8"
      },
      "execution_count": null,
      "outputs": []
    },
    {
      "cell_type": "code",
      "source": [
        "curs.execute(\"select company, count(modelname), avg(price), avg(ratings) from mobiles group by company\")\n",
        "data = curs.fetchall()\n",
        "fields = ['Company','Total Models', 'Average Price', 'Average Ratings']\n",
        "print(tabulate(data, headers=fields))"
      ],
      "metadata": {
        "colab": {
          "base_uri": "https://localhost:8080/"
        },
        "id": "NbKZIWshb_v6",
        "outputId": "6f9d0bad-affe-42f9-f4c6-78812b47806b"
      },
      "execution_count": null,
      "outputs": [
        {
          "output_type": "stream",
          "name": "stdout",
          "text": [
            "Company      Total Models    Average Price    Average Ratings\n",
            "---------  --------------  ---------------  -----------------\n",
            "Samsung                 2            71849                4.5\n",
            "Realme                  1             7999                4\n",
            "Oppo                    1            12499                4\n",
            "Infinix                 1             8999                4\n",
            "Apple                   1            69999                5\n",
            "Vivo                    1            25940                4\n"
          ]
        }
      ]
    },
    {
      "cell_type": "code",
      "source": [
        "con.close()"
      ],
      "metadata": {
        "id": "4R4NjsbPcSI9"
      },
      "execution_count": null,
      "outputs": []
    }
  ]
}